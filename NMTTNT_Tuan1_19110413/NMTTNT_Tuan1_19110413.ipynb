{
 "cells": [
  {
   "cell_type": "code",
   "execution_count": 1,
   "metadata": {},
   "outputs": [],
   "source": [
    "from queue import Queue, PriorityQueue\n",
    "from collections import defaultdict\n"
   ]
  },
  {
   "cell_type": "code",
   "execution_count": 2,
   "metadata": {},
   "outputs": [
    {
     "data": {
      "text/plain": [
       "<function TextIOWrapper.close()>"
      ]
     },
     "execution_count": 2,
     "metadata": {},
     "output_type": "execute_result"
    }
   ],
   "source": [
    "f=open(\"input BFS-DFS.txt\",\"r\")\n",
    "verticles = f.readline()\n",
    "start,goal = [int(num) for num in f.readline().split(' ')]\n",
    "adj_matrix = [[int(num) for num in line.split(' ')] for line in f if line.strip(\"\\n\") != \"\\n\"]\n",
    "f.close"
   ]
  },
  {
   "cell_type": "code",
   "execution_count": 3,
   "metadata": {},
   "outputs": [],
   "source": [
    "\n",
    "# converts from adjacency matrix to adjacency list\n",
    "def adjm_to_adjl(a):\n",
    "    adjList = defaultdict(list)\n",
    "    for i in range(len(a)):\n",
    "        for j in range(len(a[i])):\n",
    "                if a[i][j]>= 1:\n",
    "                    adjList[i].append(j)        \n",
    "    return adjList"
   ]
  },
  {
   "cell_type": "code",
   "execution_count": 4,
   "metadata": {},
   "outputs": [],
   "source": [
    "def bfs(graph, start, goal):\n",
    "    queue = []\n",
    "    # push the first path into the queue\n",
    "    queue.append([start])\n",
    "    while queue:\n",
    "    # can't find path to goal\n",
    "        if (len(queue)==0): \n",
    "            raise Exception(\"No way Exception\") \n",
    "    # get the first path from the queue\n",
    "        path = queue.pop(0)\n",
    "        # get the last node from the path\n",
    "        node = path[-1]\n",
    "        # path found\n",
    "        if node == goal:\n",
    "            return path \n",
    "        # explore path and push it into the queue\n",
    "        for adj in graph.get(node, []): # explore path of graph\n",
    "            explored = list(path) # remember node visited\n",
    "            explored.append(adj) \n",
    "            queue.append(explored) #push path explored into queue"
   ]
  },
  {
   "cell_type": "code",
   "execution_count": 5,
   "metadata": {},
   "outputs": [],
   "source": [
    "def dfs(graph, start, goal):\n",
    "    stack = [(start, [start])] #push the first node and path into stack\n",
    "    explored = set()\n",
    "    while stack:\n",
    "        if len(stack) == 0: # can't find path to goal\n",
    "            raise Exception(\"No way Exception\")\n",
    "        (current, path) = stack.pop() # get the last (node and path) from stack\n",
    "        if current not in explored: #check node was in explored\n",
    "            if current == goal: #path found\n",
    "                return path\n",
    "            #remember node explored\n",
    "            explored.add(current)\n",
    "            #push node and path explore into stack\n",
    "            for adj in graph[current]:\n",
    "                stack.append((adj, path + [adj]))\n",
    "                \n"
   ]
  },
  {
   "cell_type": "code",
   "execution_count": 6,
   "metadata": {},
   "outputs": [
    {
     "data": {
      "text/plain": [
       "defaultdict(list,\n",
       "            {0: [1, 2, 3],\n",
       "             1: [6],\n",
       "             2: [5, 7],\n",
       "             3: [4],\n",
       "             4: [13],\n",
       "             5: [11],\n",
       "             6: [2],\n",
       "             7: [8, 9],\n",
       "             8: [10],\n",
       "             10: [9, 14],\n",
       "             11: [12],\n",
       "             12: [13],\n",
       "             13: [10],\n",
       "             14: [15],\n",
       "             15: [16],\n",
       "             16: [17]})"
      ]
     },
     "execution_count": 6,
     "metadata": {},
     "output_type": "execute_result"
    }
   ],
   "source": [
    "graph = adjm_to_adjl(adj_matrix)\n",
    "graph"
   ]
  },
  {
   "cell_type": "code",
   "execution_count": 7,
   "metadata": {},
   "outputs": [
    {
     "name": "stdout",
     "output_type": "stream",
     "text": [
      "BFS solution:  0 2 7 8 10 14 15 16 17\n"
     ]
    }
   ],
   "source": [
    "solution = bfs(graph,start,goal)\n",
    "print(\"BFS solution: \",*solution)"
   ]
  },
  {
   "cell_type": "code",
   "execution_count": 8,
   "metadata": {},
   "outputs": [
    {
     "name": "stdout",
     "output_type": "stream",
     "text": [
      "DFS solution:  0 3 4 13 10 14 15 16 17\n"
     ]
    }
   ],
   "source": [
    "solution2 = dfs(graph,start,goal)\n",
    "print(\"DFS solution: \",*solution2)"
   ]
  },
  {
   "cell_type": "code",
   "execution_count": 9,
   "metadata": {},
   "outputs": [],
   "source": [
    "f=open(\"input UCS.txt\",\"r\")\n",
    "verticles = f.readline()\n",
    "start,goal = [int(num) for num in f.readline().split(' ')]\n",
    "adj_matrix = [[int(num) for num in line.split(' ')] for line in f if line.strip(\"\\n\") != \"\\n\"]\n"
   ]
  },
  {
   "cell_type": "code",
   "execution_count": 10,
   "metadata": {},
   "outputs": [],
   "source": [
    "def adjm_to_adjlUCS(a):\n",
    "    adjList = defaultdict(list)\n",
    "    for i in range(len(a)):\n",
    "        for j in range(len(a[i])):\n",
    "                if a[i][j]>= 1:\n",
    "                    adjList[i].append((a[i][j],j))\n",
    "                         \n",
    "    return adjList"
   ]
  },
  {
   "cell_type": "code",
   "execution_count": 11,
   "metadata": {},
   "outputs": [
    {
     "data": {
      "text/plain": [
       "defaultdict(list,\n",
       "            {0: [(50, 1), (350, 2), (300, 3)],\n",
       "             1: [(600, 6)],\n",
       "             2: [(100, 5), (900, 7)],\n",
       "             3: [(1300, 4)],\n",
       "             4: [(1400, 13)],\n",
       "             5: [(700, 11)],\n",
       "             6: [(800, 2)],\n",
       "             7: [(790, 8), (300, 9)],\n",
       "             8: [(1200, 10)],\n",
       "             10: [(800, 9), (400, 14)],\n",
       "             11: [(950, 12)],\n",
       "             12: [(600, 13)],\n",
       "             13: [(1300, 10)],\n",
       "             14: [(1300, 15)],\n",
       "             15: [(770, 16)],\n",
       "             16: [(1200, 17)]})"
      ]
     },
     "execution_count": 11,
     "metadata": {},
     "output_type": "execute_result"
    }
   ],
   "source": [
    "graph = adjm_to_adjlUCS(adj_matrix)\n",
    "graph"
   ]
  },
  {
   "cell_type": "code",
   "execution_count": 12,
   "metadata": {},
   "outputs": [],
   "source": [
    "def UCS(graph,start,goal):\n",
    "    queue = PriorityQueue()\n",
    "    queue.put((0,[start])) #put first cost and path to queue\n",
    "    \n",
    "    while queue:\n",
    "        if queue.empty():\n",
    "            raise Exception(\"No way Exception\")\n",
    "        cost,path = queue.get() #get least cost path in queue\n",
    "        current = path[-1] #get last node in path\n",
    "        #path found\n",
    "        if current == goal:\n",
    "            return path,cost\n",
    "        # explore path and push it into the queue\n",
    "        for adj in graph.get(current,[]):  # explore path of graph\n",
    "            explored = list(path) # remember node visited\n",
    "            totalCost = cost + adj[0] # calculated total cost of path explore\n",
    "            explored.append(adj[1]) \n",
    "            # push path and total cost into queue\n",
    "            queue.put((totalCost,explored)) \n",
    "    "
   ]
  },
  {
   "cell_type": "code",
   "execution_count": 13,
   "metadata": {},
   "outputs": [
    {
     "name": "stdout",
     "output_type": "stream",
     "text": [
      "UCS solution:  [ 0 2 7 8 10 14 15 16 17 ] Total Cost 6910\n"
     ]
    }
   ],
   "source": [
    "path,cost = UCS(graph,start,goal)\n",
    "print(\"UCS solution: \",'[',*path,']',\"Total Cost\",cost)"
   ]
  }
 ],
 "metadata": {
  "interpreter": {
   "hash": "c38863033e3c469dfb72d4258ae88aecede450fe3285742039f46ccd12575e7a"
  },
  "kernelspec": {
   "display_name": "Python 3.8.8 64-bit ('base': conda)",
   "name": "python3"
  },
  "language_info": {
   "codemirror_mode": {
    "name": "ipython",
    "version": 3
   },
   "file_extension": ".py",
   "mimetype": "text/x-python",
   "name": "python",
   "nbconvert_exporter": "python",
   "pygments_lexer": "ipython3",
   "version": "3.8.8"
  },
  "orig_nbformat": 4
 },
 "nbformat": 4,
 "nbformat_minor": 2
}
