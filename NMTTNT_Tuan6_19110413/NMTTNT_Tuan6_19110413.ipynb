{
 "cells": [
  {
   "cell_type": "code",
   "execution_count": 1,
   "metadata": {},
   "outputs": [],
   "source": [
    "import numpy as np\n",
    "import random\n"
   ]
  },
  {
   "cell_type": "code",
   "execution_count": 2,
   "metadata": {},
   "outputs": [],
   "source": [
    "def attacked_queens_pairs(seqs):\n",
    "    a = np.array([0] * 81)  # Create a one-dimensional array with 81 zeros\n",
    "    a = a.reshape(9, 9)  # Change to 9 * 9 two-dimensional array. For the convenience of later use, only the 8 * 8 parts of the last eight rows and columns are used as a blank chessboard\n",
    "    n = 0  # The number of queens attacking each other is initialized to 0\n",
    "\n",
    "    for i in range(1, 9):\n",
    "        if seqs[i-1] != 0: # An element of seqs is 0, which means that no queen should be placed in the corresponding chessboard column\n",
    "            a[seqs[i - 1]][i] = 1  # Generate the corresponding chessboard sequence, and place it in the order of the first chessboard column\n",
    "\n",
    "    for i in range(1, 9):\n",
    "        if seqs[i - 1] == 0:\n",
    "            continue # If an element of seqs is 0, it represents the corresponding chessboard. If no queen is placed in this column, the next column will be judged directly\n",
    "        for k in list(range(1, i)) + list(range(i + 1, 9)):  # Check whether there are other queens on each queen's line\n",
    "            if a[seqs[i - 1]][k] == 1:  # There are other queens\n",
    "                n += 1\n",
    "        t1 = t2 = seqs[i - 1]\n",
    "        for j in range(i - 1, 0, -1):  # Look at the two diagonals in the left half\n",
    "            if t1 != 1:\n",
    "                t1 -= 1\n",
    "                if a[t1][j] == 1:\n",
    "                    n += 1  # There are other queens on the left half of the diagonal\n",
    "\n",
    "            if t2 != 8:\n",
    "                t2 += 1\n",
    "                if a[t2][j] == 1:\n",
    "                    n += 1  # There are other queens on the left half of the sub diagonal\n",
    "\n",
    "        t1 = t2 = seqs[i - 1]\n",
    "        for j in range(i + 1, 9):  # Look at the two diagonals in the right half\n",
    "            if t1 != 1:\n",
    "                t1 -= 1\n",
    "                if a[t1][j] == 1:\n",
    "                    n += 1  # There are other queens on the right half of the diagonal\n",
    "\n",
    "            if t2 != 8:\n",
    "                t2 += 1\n",
    "                if a[t2][j] == 1:\n",
    "                    n += 1  # There are other queens on the right half of the sub diagonal\n",
    "    return int(n/2)  # Returns n/2, because A attacking B also means B attacking A, so returns half of n\n"
   ]
  },
  {
   "cell_type": "code",
   "execution_count": 7,
   "metadata": {},
   "outputs": [],
   "source": [
    "def display_board(seqs):\n",
    "    \"\"\"\n",
    "     Displays the chessboard corresponding to the sequence\n",
    "    \"\"\"\n",
    "    board = np.array([0] * 81)  # Create a one-dimensional array with 81 zeros\n",
    "    board = board.reshape(9, 9)  # Change to a 9 * 9 two-dimensional array. For the convenience of later use, only the 8 * 8 parts of the last eight rows and columns are used as a blank chessboard\n",
    "\n",
    "    for i in range(1, 9):\n",
    "        board[seqs[i - 1]][i] = 1  # According to the sequence, from the first column to the last column, put a queen in the corresponding position to generate the chessboard corresponding to the current sequence\n",
    "    print('The corresponding chessboard is as follows:')\n",
    "    for i in board[1:]:\n",
    "        for j in i[1:]:\n",
    "            print(j, ' ', end=\"\")  # With end, print doesn't wrap\n",
    "        print()  # After outputting one line, wrap it. This cannot be print('\\n'), otherwise it will be replaced by two lines"
   ]
  },
  {
   "cell_type": "code",
   "execution_count": 8,
   "metadata": {},
   "outputs": [
    {
     "name": "stdout",
     "output_type": "stream",
     "text": [
      "Solution sequence found:[7, 2, 6, 3, 1, 4, 8, 5]\n",
      "The corresponding chessboard is as follows:\n",
      "0  0  0  0  1  0  0  0  \n",
      "0  1  0  0  0  0  0  0  \n",
      "0  0  0  1  0  0  0  0  \n",
      "0  0  0  0  0  1  0  0  \n",
      "0  0  0  0  0  0  0  1  \n",
      "0  0  1  0  0  0  0  0  \n",
      "1  0  0  0  0  0  0  0  \n",
      "0  0  0  0  0  0  1  0  \n"
     ]
    }
   ],
   "source": [
    "\n",
    "frontier_priority_queue = [{'pairs':28, 'seqs':[0] * 8}] # The priority queue is used to store the unexpanded leaf nodes; the initial state is 8 zeros, which means there is no queen on the chessboard; h(n) = the number of queens attacking each other, and the initial setting is h(n)=28\n",
    "solution = []\n",
    "flag = 0 # The representative has not found a solution\n",
    "\n",
    "while frontier_priority_queue: # If the frontier is not empty, the loop will continue. If the solution is found successfully, the loop will output the solution. If the frontier is empty, the loop will fail\n",
    "    first = frontier_priority_queue.pop(0)  # First, the sequence with the smallest h(n) is extended; because each sequence is sorted from small to large by h(n), the first sequence is extended\n",
    "    seqs = first['seqs']\n",
    "    if 0 not in seqs: # Do goal test before extending the node: if there is no 0 element in the sequence, that is, eight queens have been placed, then the sequence is the solution sequence\n",
    "        solution = seqs\n",
    "        flag = 1  # success\n",
    "        break\n",
    "    nums = list(range(1, 9))  # List with elements 1-8\n",
    "    for j in range(8): # In the first position of 0 in the sequence, that is, the leftmost column without queen, select a row to place queen\n",
    "        pos = seqs.index(0)\n",
    "        temp_seqs = list(seqs)\n",
    "        temp = random.choice(nums)  # Select a random row in the column to place the queen\n",
    "        temp_seqs[pos] = temp # Place the queen on line temp of the column\n",
    "        nums.remove(temp)  # Remove generated values from nums\n",
    "        frontier_priority_queue.append({'pairs':attacked_queens_pairs(temp_seqs),'seqs':temp_seqs})\n",
    "    frontier_priority_queue = sorted(frontier_priority_queue, key=lambda x:x['pairs'])\n",
    "\n",
    "if solution:\n",
    "    print('Solution sequence found:' + str(solution))\n",
    "    display_board(solution)\n",
    "else:\n",
    "    print('Algorithm failed, no solution found')\n"
   ]
  }
 ],
 "metadata": {
  "interpreter": {
   "hash": "c38863033e3c469dfb72d4258ae88aecede450fe3285742039f46ccd12575e7a"
  },
  "kernelspec": {
   "display_name": "Python 3.8.8 64-bit ('base': conda)",
   "language": "python",
   "name": "python3"
  },
  "language_info": {
   "codemirror_mode": {
    "name": "ipython",
    "version": 3
   },
   "file_extension": ".py",
   "mimetype": "text/x-python",
   "name": "python",
   "nbconvert_exporter": "python",
   "pygments_lexer": "ipython3",
   "version": "3.8.8"
  },
  "orig_nbformat": 4
 },
 "nbformat": 4,
 "nbformat_minor": 2
}
